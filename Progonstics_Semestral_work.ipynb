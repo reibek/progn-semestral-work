{
  "nbformat": 4,
  "nbformat_minor": 0,
  "metadata": {
    "colab": {
      "name": "Progonstics - Semestral work.ipynb",
      "provenance": [],
      "collapsed_sections": [],
      "toc_visible": true,
      "mount_file_id": "1ajMYI00whfF4oYdt4llsKH_S57G_52Af",
      "authorship_tag": "ABX9TyMkHdL0QgA8P9uDBrm5rMO3",
      "include_colab_link": true
    },
    "kernelspec": {
      "name": "python3",
      "display_name": "Python 3"
    },
    "language_info": {
      "name": "python"
    }
  },
  "cells": [
    {
      "cell_type": "markdown",
      "metadata": {
        "id": "view-in-github",
        "colab_type": "text"
      },
      "source": [
        "<a href=\"https://colab.research.google.com/github/reibek/progn-semestral-work/blob/main/Progonstics_Semestral_work.ipynb\" target=\"_parent\"><img src=\"https://colab.research.google.com/assets/colab-badge.svg\" alt=\"Open In Colab\"/></a>"
      ]
    },
    {
      "cell_type": "markdown",
      "metadata": {
        "id": "eU6MxqtQ-m8d"
      },
      "source": [
        "# Eviroment prepare\n",
        "\n",
        "## Install packages"
      ]
    },
    {
      "cell_type": "code",
      "metadata": {
        "id": "DiEM9Gip9MQs"
      },
      "source": [
        "!apt-get install texlive texlive-xetex texlive-latex-extra pandoc\n",
        "!pip install pypandoc"
      ],
      "execution_count": null,
      "outputs": []
    },
    {
      "cell_type": "markdown",
      "metadata": {
        "id": "3TIUzfNy7bcK"
      },
      "source": [
        "## Import libraries"
      ]
    },
    {
      "cell_type": "code",
      "metadata": {
        "id": "QErqGcA_hByS"
      },
      "source": [
        "import pandas as pd\n",
        "import numpy as np\n",
        "import matplotlib.pyplot as plt\n",
        "import statsmodels.api as sm"
      ],
      "execution_count": null,
      "outputs": []
    },
    {
      "cell_type": "markdown",
      "metadata": {
        "id": "e2B4jsh07iRs"
      },
      "source": [
        "## Load data\n",
        "We can load data either from device or mount our Google Drive, where is data file located. Recomended is to use Google drive for futher exporting document to PDF format.\n",
        "\n",
        "### From device\n",
        "After running script a classic dialod window is open for choosing file to load."
      ]
    },
    {
      "cell_type": "code",
      "metadata": {
        "id": "8DwVjd-xhE1z"
      },
      "source": [
        "from google.colab import files\n",
        "uploaded = files.upload()\n",
        "\n",
        "import io\n",
        "dataset = pd.read_csv(io.BytesIO(uploaded['ADA-USD.csv']))"
      ],
      "execution_count": null,
      "outputs": []
    },
    {
      "cell_type": "markdown",
      "metadata": {
        "id": "wTab0kqqAgsL"
      },
      "source": [
        "### From Google Drive\n",
        "Mounting of drive is required."
      ]
    },
    {
      "cell_type": "code",
      "metadata": {
        "id": "nXMMVmRU8jty"
      },
      "source": [
        "from google.colab import drive\n",
        "drive.mount('/content/drive')"
      ],
      "execution_count": null,
      "outputs": []
    },
    {
      "cell_type": "markdown",
      "metadata": {
        "id": "yZZ-iyXzB6zB"
      },
      "source": [
        "After that, we can load our data file."
      ]
    },
    {
      "cell_type": "code",
      "metadata": {
        "id": "XX85Xjj1B51C"
      },
      "source": [
        "dataset = pd.read_csv('/content/drive/MyDrive/FRI/PROGN/ADA-USD.csv')"
      ],
      "execution_count": null,
      "outputs": []
    },
    {
      "cell_type": "markdown",
      "metadata": {
        "id": "ImjYqIYoGWAK"
      },
      "source": [
        "Preview of loaded data."
      ]
    },
    {
      "cell_type": "code",
      "metadata": {
        "colab": {
          "base_uri": "https://localhost:8080/",
          "height": 204
        },
        "id": "5iel9yoeGaDp",
        "outputId": "f6f28bc1-ffb2-4e0c-8b12-1b95373b9487"
      },
      "source": [
        "dataset.head()"
      ],
      "execution_count": null,
      "outputs": [
        {
          "output_type": "execute_result",
          "data": {
            "text/html": [
              "<div>\n",
              "<style scoped>\n",
              "    .dataframe tbody tr th:only-of-type {\n",
              "        vertical-align: middle;\n",
              "    }\n",
              "\n",
              "    .dataframe tbody tr th {\n",
              "        vertical-align: top;\n",
              "    }\n",
              "\n",
              "    .dataframe thead th {\n",
              "        text-align: right;\n",
              "    }\n",
              "</style>\n",
              "<table border=\"1\" class=\"dataframe\">\n",
              "  <thead>\n",
              "    <tr style=\"text-align: right;\">\n",
              "      <th></th>\n",
              "      <th>Date</th>\n",
              "      <th>Open</th>\n",
              "      <th>High</th>\n",
              "      <th>Low</th>\n",
              "      <th>Close</th>\n",
              "      <th>Adj Close</th>\n",
              "      <th>Volume</th>\n",
              "    </tr>\n",
              "  </thead>\n",
              "  <tbody>\n",
              "    <tr>\n",
              "      <th>0</th>\n",
              "      <td>2017-10-01</td>\n",
              "      <td>0.021678</td>\n",
              "      <td>0.032226</td>\n",
              "      <td>0.017354</td>\n",
              "      <td>0.024969</td>\n",
              "      <td>0.024969</td>\n",
              "      <td>50068700.0</td>\n",
              "    </tr>\n",
              "    <tr>\n",
              "      <th>1</th>\n",
              "      <td>2017-10-02</td>\n",
              "      <td>0.024607</td>\n",
              "      <td>0.030088</td>\n",
              "      <td>0.019969</td>\n",
              "      <td>0.025932</td>\n",
              "      <td>0.025932</td>\n",
              "      <td>57641300.0</td>\n",
              "    </tr>\n",
              "    <tr>\n",
              "      <th>2</th>\n",
              "      <td>2017-10-03</td>\n",
              "      <td>0.025757</td>\n",
              "      <td>0.027425</td>\n",
              "      <td>0.020690</td>\n",
              "      <td>0.020816</td>\n",
              "      <td>0.020816</td>\n",
              "      <td>16997800.0</td>\n",
              "    </tr>\n",
              "    <tr>\n",
              "      <th>3</th>\n",
              "      <td>2017-10-04</td>\n",
              "      <td>0.020864</td>\n",
              "      <td>0.022806</td>\n",
              "      <td>0.020864</td>\n",
              "      <td>0.021931</td>\n",
              "      <td>0.021931</td>\n",
              "      <td>9000050.0</td>\n",
              "    </tr>\n",
              "    <tr>\n",
              "      <th>4</th>\n",
              "      <td>2017-10-05</td>\n",
              "      <td>0.021951</td>\n",
              "      <td>0.022154</td>\n",
              "      <td>0.020859</td>\n",
              "      <td>0.021489</td>\n",
              "      <td>0.021489</td>\n",
              "      <td>5562510.0</td>\n",
              "    </tr>\n",
              "  </tbody>\n",
              "</table>\n",
              "</div>"
            ],
            "text/plain": [
              "         Date      Open      High       Low     Close  Adj Close      Volume\n",
              "0  2017-10-01  0.021678  0.032226  0.017354  0.024969   0.024969  50068700.0\n",
              "1  2017-10-02  0.024607  0.030088  0.019969  0.025932   0.025932  57641300.0\n",
              "2  2017-10-03  0.025757  0.027425  0.020690  0.020816   0.020816  16997800.0\n",
              "3  2017-10-04  0.020864  0.022806  0.020864  0.021931   0.021931   9000050.0\n",
              "4  2017-10-05  0.021951  0.022154  0.020859  0.021489   0.021489   5562510.0"
            ]
          },
          "metadata": {
            "tags": []
          },
          "execution_count": 6
        }
      ]
    },
    {
      "cell_type": "markdown",
      "metadata": {
        "id": "q-e5h3Uc7tih"
      },
      "source": [
        "# Data preparation\n",
        "Format 'Date' column as `datetime` type.\n",
        "\n"
      ]
    },
    {
      "cell_type": "code",
      "metadata": {
        "id": "C5y0T9M_70R6"
      },
      "source": [
        "dataset['Date'] = pd.to_datetime(dataset['Date'])"
      ],
      "execution_count": null,
      "outputs": []
    },
    {
      "cell_type": "markdown",
      "metadata": {
        "id": "t3uyF0xpGmiC"
      },
      "source": [
        "Drop `NaN` values."
      ]
    },
    {
      "cell_type": "code",
      "metadata": {
        "id": "3FtTIQGkGujJ"
      },
      "source": [
        "dataset = dataset.dropna()"
      ],
      "execution_count": null,
      "outputs": []
    },
    {
      "cell_type": "code",
      "metadata": {
        "colab": {
          "base_uri": "https://localhost:8080/",
          "height": 438
        },
        "id": "XzzWpOfOhW_C",
        "outputId": "64ea9f90-25bf-4ee7-da34-faecbe2146e8"
      },
      "source": [
        "fig_1 = plt.figure(figsize=(10,5))\n",
        "axes_1 = fig_1.add_axes([0,0,1,1])\n",
        "axes_1.set_xlabel('Date')\n",
        "axes_1.set_ylabel('Price')\n",
        "axes_1.set_title('ADA-USD')\n",
        "axes_1.plot(dataset.Date, dataset.Open, label='Price')\n",
        "axes_1.legend(loc=0)\n",
        "plt.show()"
      ],
      "execution_count": null,
      "outputs": [
        {
          "output_type": "display_data",
          "data": {
            "image/png": "[encoded data removed]",
            "text/plain": [
              "<Figure size 720x360 with 1 Axes>"
            ]
          },
          "metadata": {
            "tags": [],
            "needs_background": "light"
          }
        }
      ]
    }
  ]
}